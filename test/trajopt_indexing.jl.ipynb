{
 "cells": [
  {
   "cell_type": "code",
   "execution_count": 41,
   "id": "9d33ba68",
   "metadata": {},
   "outputs": [
    {
     "data": {
      "text/plain": [
       "ForwardDiff"
      ]
     },
     "execution_count": 41,
     "metadata": {},
     "output_type": "execute_result"
    }
   ],
   "source": [
    "using LinearAlgebra\n",
    "using ForwardDiff\n",
    "using SparseArrays\n",
    "const FD = ForwardDiff"
   ]
  },
  {
   "cell_type": "code",
   "execution_count": 42,
   "id": "e9ddf629",
   "metadata": {},
   "outputs": [
    {
     "data": {
      "text/plain": [
       "dynamics (generic function with 1 method)"
      ]
     },
     "execution_count": 42,
     "metadata": {},
     "output_type": "execute_result"
    }
   ],
   "source": [
    "function dynamics(x, u)\n",
    "    # euler's with added nonlinearities\n",
    "    J = Diagonal([1, 2, 3])\n",
    "    ẋ = J \\ (u[1:3] * sin(u[1]) - cross(x, J * x)) * cos(u[4])\n",
    "end"
   ]
  },
  {
   "cell_type": "code",
   "execution_count": 43,
   "id": "8992ca8b",
   "metadata": {},
   "outputs": [
    {
     "data": {
      "text/plain": [
       "rk4 (generic function with 1 method)"
      ]
     },
     "execution_count": 43,
     "metadata": {},
     "output_type": "execute_result"
    }
   ],
   "source": [
    "function rk4(x,u,dt)\n",
    "    k1 = dt * dynamics(x,        u)\n",
    "    k2 = dt * dynamics(x + k1/2, u)\n",
    "    k3 = dt * dynamics(x + k2/2, u)\n",
    "    k4 = dt * dynamics(x + k3,   u)\n",
    "    x + (1 / 6) * (k1 + 2 * k2 + 2 * k3 + k4)\n",
    "end"
   ]
  },
  {
   "cell_type": "code",
   "execution_count": 44,
   "id": "df7623a3",
   "metadata": {},
   "outputs": [
    {
     "data": {
      "text/plain": [
       "create_idx (generic function with 1 method)"
      ]
     },
     "execution_count": 44,
     "metadata": {},
     "output_type": "execute_result"
    }
   ],
   "source": [
    "struct IDX\n",
    "    nx::Int64\n",
    "    nu::Int64\n",
    "    N::Int64\n",
    "    nz::Int64\n",
    "    nc::Int64\n",
    "    x::Vector{UnitRange{Int64}}\n",
    "    u::Vector{UnitRange{Int64}}\n",
    "    c::Vector{UnitRange{Int64}}  \n",
    "end\n",
    "function create_idx(nx,nu,N)\n",
    "    \n",
    "    # our Z vector is [x0, u0, x1, u1, …, xN]\n",
    "    nz = (N-1) * nu + N * nx\n",
    "    idx_x = [(i - 1) * (nx + nu) .+ (1 : nx) for i = 1:N]\n",
    "    idx_u = [(i - 1) * (nx + nu) .+ ((nx + 1):(nx + nu)) for i = 1:(N - 1)]\n",
    "    \n",
    "    # constraints we're considering are dynamics constraints + initial condition + terminal condition \n",
    "    idx_c = [(i - 1) * (nx) .+ (1 : nx) for i = 1:(N + 1)]\n",
    "    nc = (N + 1) * nx # (N-1)*nx for dynamics, 2*nx for initial and terminal conditions\n",
    "    \n",
    "    return IDX(nx,nu,N,nz,nc,idx_x,idx_u,idx_c)\n",
    "end"
   ]
  },
  {
   "cell_type": "code",
   "execution_count": 56,
   "id": "8ecf4506",
   "metadata": {},
   "outputs": [
    {
     "data": {
      "text/plain": [
       "constraints (generic function with 1 method)"
      ]
     },
     "execution_count": 56,
     "metadata": {},
     "output_type": "execute_result"
    }
   ],
   "source": [
    "function constraints(Z,idx,x0,xf,dt)\n",
    "    c = zeros(eltype(Z[1]),idx.nc) # cre\n",
    "    for i = 1:idx.N-1\n",
    "        xi = Z[idx.x[i]]\n",
    "        ui = Z[idx.u[i]]\n",
    "        xi₊ = Z[idx.x[i+1]] \n",
    "        c[idx.c[i]] = xi₊ - rk4(xi,ui,dt)\n",
    "    end\n",
    "    c[idx.c[idx.N]] = Z[idx.x[1]] - x0 ;\n",
    "    c[idx.c[idx.N+1]] = Z[idx.x[idx.N]] - xf;\n",
    "    return c;\n",
    "end\n"
   ]
  },
  {
   "cell_type": "code",
   "execution_count": 57,
   "id": "fbfa5171",
   "metadata": {},
   "outputs": [
    {
     "data": {
      "text/plain": [
       "constraint_jacobian! (generic function with 1 method)"
      ]
     },
     "execution_count": 57,
     "metadata": {},
     "output_type": "execute_result"
    }
   ],
   "source": [
    "function constraint_jacobian!(J,Z,idx,x0,xf,dt)\n",
    "    for i = 1:idx.N-1\n",
    "        xi = Z[idx.x[i]]\n",
    "        ui = Z[idx.u[i]]\n",
    "        xi₊ = Z[idx.x[i+1]] \n",
    "        \n",
    "        # diff the following constraint wrt xi, ui, xi₊\n",
    "        # c[idx.c[i]] = xi₊ - rk4(xi,ui,dt)\n",
    "        J[idx.c[i],idx.x[i]] = -FD.jacobian(_x->rk4(_x,ui,dt),xi)\n",
    "        J[idx.c[i],idx.u[i]] = -FD.jacobian(_u->rk4(xi,_u,dt),ui)\n",
    "        J[idx.c[i],idx.x[i+1]] = I(idx.nx)\n",
    "    end\n",
    "    \n",
    "    # diff the initial and terminal condition constraints wrt x1 and xN respectively\n",
    "    # c[idx.c[idx.N]] = Z[idx.x[1]] - x0 \n",
    "    J[idx.c[idx.N],idx.x[1]] = I(idx.nx)\n",
    "    \n",
    "    # c[idx.c[idx.N+1]] = Z[idx.x[idx.N]] - xf\n",
    "    J[idx.c[idx.N+1],idx.x[idx.N]] = I(idx.nx)\n",
    "end"
   ]
  },
  {
   "cell_type": "code",
   "execution_count": 60,
   "id": "423da733",
   "metadata": {},
   "outputs": [
    {
     "name": "stdout",
     "output_type": "stream",
     "text": [
      "norm(J - J_fd) = 0.0\n"
     ]
    },
    {
     "data": {
      "text/plain": [
       "33×66 SparseMatrixCSC{Float64, Int64} with 222 stored entries:\n",
       "⠿⠿⠿⢏⣢⣀⣀⡀⠀⠀⠀⠀⠀⠀⠀⠀⠀⠀⠀⠀⠀⠀⠀⠀⠀⠀⠀⠀⠀⠀⠀⠀⠀\n",
       "⠀⠀⠀⠘⠛⠛⠛⣬⣦⣤⡤⡀⠀⠀⠀⠀⠀⠀⠀⠀⠀⠀⠀⠀⠀⠀⠀⠀⠀⠀⠀⠀⠀\n",
       "⠀⠀⠀⠀⠀⠀⠀⠉⠉⠉⢱⣾⣶⣶⠢⡀⠀⠀⠀⠀⠀⠀⠀⠀⠀⠀⠀⠀⠀⠀⠀⠀⠀\n",
       "⠀⠀⠀⠀⠀⠀⠀⠀⠀⠀⠀⠀⠀⠀⠿⠿⠿⢏⣢⣀⣀⡀⠀⠀⠀⠀⠀⠀⠀⠀⠀⠀⠀\n",
       "⠀⠀⠀⠀⠀⠀⠀⠀⠀⠀⠀⠀⠀⠀⠀⠀⠀⠘⠛⠛⠛⣬⣦⣤⡤⡀⠀⠀⠀⠀⠀⠀⠀\n",
       "⠀⠀⠀⠀⠀⠀⠀⠀⠀⠀⠀⠀⠀⠀⠀⠀⠀⠀⠀⠀⠀⠉⠉⠉⢱⣾⣶⣶⠢⡀⠀⠀⠀\n",
       "⡀⠀⠀⠀⠀⠀⠀⠀⠀⠀⠀⠀⠀⠀⠀⠀⠀⠀⠀⠀⠀⠀⠀⠀⠀⠀⠀⠀⠿⠿⠿⠏⠢\n",
       "⠈⠂⠀⠀⠀⠀⠀⠀⠀⠀⠀⠀⠀⠀⠀⠀⠀⠀⠀⠀⠀⠀⠀⠀⠀⠀⠀⠀⠀⠀⠀⠠⡀\n",
       "⠀⠀⠀⠀⠀⠀⠀⠀⠀⠀⠀⠀⠀⠀⠀⠀⠀⠀⠀⠀⠀⠀⠀⠀⠀⠀⠀⠀⠀⠀⠀⠀⠈"
      ]
     },
     "execution_count": 60,
     "metadata": {},
     "output_type": "execute_result"
    }
   ],
   "source": [
    "let \n",
    "    nx = 3\n",
    "    nu = 4\n",
    "    N = 10 \n",
    "    idx = create_idx(nx,nu,N)\n",
    "    \n",
    "    x0 = randn(nx)\n",
    "    xf = randn(nx)\n",
    "    dt = 0.1 \n",
    "    \n",
    "    Z = randn(idx.nz);\n",
    "\n",
    "    c = constraints(Z,idx,x0,xf,dt);\n",
    "    J_fd = FD.jacobian(_Z->constraints(_Z,idx,x0,xf,dt),Z)\n",
    "    \n",
    "    J = spzeros(idx.nc,idx.nz)\n",
    "    constraint_jacobian!(J,Z,idx,x0,xf,dt)\n",
    "    \n",
    "    @show norm(J-J_fd)  \n",
    "    J\n",
    "end"
   ]
  },
  {
   "cell_type": "code",
   "execution_count": null,
   "id": "3f2ef15d",
   "metadata": {},
   "outputs": [],
   "source": []
  }
 ],
 "metadata": {
  "kernelspec": {
   "display_name": "Julia 1.6.5",
   "language": "julia",
   "name": "julia-1.6"
  },
  "language_info": {
   "file_extension": ".jl",
   "mimetype": "application/julia",
   "name": "julia",
   "version": "1.6.5"
  }
 },
 "nbformat": 4,
 "nbformat_minor": 5
}
